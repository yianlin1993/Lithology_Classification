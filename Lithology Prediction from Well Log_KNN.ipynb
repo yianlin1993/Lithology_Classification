{
 "cells": [
  {
   "cell_type": "markdown",
   "metadata": {},
   "source": [
    "## Background information\n",
    "Oil and gas reservoirs lie deep beneath the Earth's surface. Geologists and engineers cannot examine the rock formations in situ, so tools called sondes go there for them. Specialists lower these tools into a wellbore and obtain measurements of subsurface properties. The data are displayed as a series of measurements covering a depth range in a display called a well log. Often, several tools are run simultaneously as a logging string, and the combination of results is more informative than each individual measurement(https://www.slb.com/resource-library/oilfield-review/defining-series/defining-logging).\n",
    "\n",
    "## Objective\n",
    "Train a Machine Learning model to predict lithology using log measurements from two different geothermal wells.\n",
    "\n",
    "## Data Source\n",
    "https://gdr.openei.org/submissions/1111 "
   ]
  },
  {
   "cell_type": "markdown",
   "metadata": {},
   "source": [
    "Import pandas, numpy, matplotlib,and seaborn. Then set %matplotlib inline"
   ]
  },
  {
   "cell_type": "code",
   "execution_count": 2,
   "metadata": {},
   "outputs": [],
   "source": [
    "import pandas as pd\n",
    "import pandas as pd\n",
    "import numpy as np\n",
    "import matplotlib.pyplot as plt\n",
    "import seaborn as sns"
   ]
  },
  {
   "cell_type": "markdown",
   "metadata": {},
   "source": [
    "## Get the Data\n",
    "We'll work with the Well_Data.csv. It has numerical value columns:\n",
    "\n",
    "DENS: Density log\n",
    "GR: Gamma ray log\n",
    "SP: Spontaneous log\n",
    "DEEP_RES: Deep Resistivity log\n",
    "CAL: Caliper log"
   ]
  },
  {
   "cell_type": "code",
   "execution_count": 3,
   "metadata": {},
   "outputs": [
    {
     "data": {
      "text/html": [
       "<div>\n",
       "<style scoped>\n",
       "    .dataframe tbody tr th:only-of-type {\n",
       "        vertical-align: middle;\n",
       "    }\n",
       "\n",
       "    .dataframe tbody tr th {\n",
       "        vertical-align: top;\n",
       "    }\n",
       "\n",
       "    .dataframe thead th {\n",
       "        text-align: right;\n",
       "    }\n",
       "</style>\n",
       "<table border=\"1\" class=\"dataframe\">\n",
       "  <thead>\n",
       "    <tr style=\"text-align: right;\">\n",
       "      <th></th>\n",
       "      <th>DENS</th>\n",
       "      <th>GR</th>\n",
       "      <th>SP</th>\n",
       "      <th>DEEP_RES</th>\n",
       "      <th>CAL</th>\n",
       "      <th>Lithology</th>\n",
       "    </tr>\n",
       "  </thead>\n",
       "  <tbody>\n",
       "    <tr>\n",
       "      <th>0</th>\n",
       "      <td>2.5552</td>\n",
       "      <td>159.1349</td>\n",
       "      <td>82.500</td>\n",
       "      <td>1950.000</td>\n",
       "      <td>8.8111</td>\n",
       "      <td>Granitiod</td>\n",
       "    </tr>\n",
       "    <tr>\n",
       "      <th>1</th>\n",
       "      <td>2.0330</td>\n",
       "      <td>152.9230</td>\n",
       "      <td>-3.054</td>\n",
       "      <td>4.121</td>\n",
       "      <td>10.2130</td>\n",
       "      <td>Granitiod</td>\n",
       "    </tr>\n",
       "    <tr>\n",
       "      <th>2</th>\n",
       "      <td>2.5360</td>\n",
       "      <td>148.3970</td>\n",
       "      <td>3.369</td>\n",
       "      <td>2.099</td>\n",
       "      <td>14.7900</td>\n",
       "      <td>Granitiod</td>\n",
       "    </tr>\n",
       "    <tr>\n",
       "      <th>3</th>\n",
       "      <td>2.2640</td>\n",
       "      <td>154.8470</td>\n",
       "      <td>-2.059</td>\n",
       "      <td>1.265</td>\n",
       "      <td>12.4940</td>\n",
       "      <td>Granitiod</td>\n",
       "    </tr>\n",
       "    <tr>\n",
       "      <th>4</th>\n",
       "      <td>3.9170</td>\n",
       "      <td>72.0860</td>\n",
       "      <td>3.696</td>\n",
       "      <td>5.645</td>\n",
       "      <td>10.2000</td>\n",
       "      <td>Granitiod</td>\n",
       "    </tr>\n",
       "  </tbody>\n",
       "</table>\n",
       "</div>"
      ],
      "text/plain": [
       "     DENS        GR      SP  DEEP_RES      CAL  Lithology\n",
       "0  2.5552  159.1349  82.500  1950.000   8.8111  Granitiod\n",
       "1  2.0330  152.9230  -3.054     4.121  10.2130  Granitiod\n",
       "2  2.5360  148.3970   3.369     2.099  14.7900  Granitiod\n",
       "3  2.2640  154.8470  -2.059     1.265  12.4940  Granitiod\n",
       "4  3.9170   72.0860   3.696     5.645  10.2000  Granitiod"
      ]
     },
     "execution_count": 3,
     "metadata": {},
     "output_type": "execute_result"
    }
   ],
   "source": [
    "df = pd.read_csv('Well_Data.csv')\n",
    "df.head()"
   ]
  },
  {
   "cell_type": "code",
   "execution_count": 4,
   "metadata": {},
   "outputs": [
    {
     "data": {
      "text/html": [
       "<div>\n",
       "<style scoped>\n",
       "    .dataframe tbody tr th:only-of-type {\n",
       "        vertical-align: middle;\n",
       "    }\n",
       "\n",
       "    .dataframe tbody tr th {\n",
       "        vertical-align: top;\n",
       "    }\n",
       "\n",
       "    .dataframe thead th {\n",
       "        text-align: right;\n",
       "    }\n",
       "</style>\n",
       "<table border=\"1\" class=\"dataframe\">\n",
       "  <thead>\n",
       "    <tr style=\"text-align: right;\">\n",
       "      <th></th>\n",
       "      <th>DENS</th>\n",
       "      <th>GR</th>\n",
       "      <th>SP</th>\n",
       "      <th>DEEP_RES</th>\n",
       "      <th>CAL</th>\n",
       "    </tr>\n",
       "  </thead>\n",
       "  <tbody>\n",
       "    <tr>\n",
       "      <th>count</th>\n",
       "      <td>28584.000000</td>\n",
       "      <td>30399.000000</td>\n",
       "      <td>30410.000000</td>\n",
       "      <td>30410.000000</td>\n",
       "      <td>30410.000000</td>\n",
       "    </tr>\n",
       "    <tr>\n",
       "      <th>mean</th>\n",
       "      <td>2.642602</td>\n",
       "      <td>142.226313</td>\n",
       "      <td>19.129150</td>\n",
       "      <td>173.825669</td>\n",
       "      <td>10.136536</td>\n",
       "    </tr>\n",
       "    <tr>\n",
       "      <th>std</th>\n",
       "      <td>0.460718</td>\n",
       "      <td>54.432473</td>\n",
       "      <td>48.371447</td>\n",
       "      <td>382.208613</td>\n",
       "      <td>3.122901</td>\n",
       "    </tr>\n",
       "    <tr>\n",
       "      <th>min</th>\n",
       "      <td>1.656000</td>\n",
       "      <td>20.493500</td>\n",
       "      <td>-181.250000</td>\n",
       "      <td>0.272000</td>\n",
       "      <td>3.237500</td>\n",
       "    </tr>\n",
       "    <tr>\n",
       "      <th>25%</th>\n",
       "      <td>2.376000</td>\n",
       "      <td>99.365000</td>\n",
       "      <td>-0.565000</td>\n",
       "      <td>2.410000</td>\n",
       "      <td>8.883500</td>\n",
       "    </tr>\n",
       "    <tr>\n",
       "      <th>50%</th>\n",
       "      <td>2.556150</td>\n",
       "      <td>144.720000</td>\n",
       "      <td>3.194700</td>\n",
       "      <td>7.981850</td>\n",
       "      <td>10.186400</td>\n",
       "    </tr>\n",
       "    <tr>\n",
       "      <th>75%</th>\n",
       "      <td>2.660000</td>\n",
       "      <td>171.758600</td>\n",
       "      <td>47.500000</td>\n",
       "      <td>93.990850</td>\n",
       "      <td>12.463000</td>\n",
       "    </tr>\n",
       "    <tr>\n",
       "      <th>max</th>\n",
       "      <td>4.628800</td>\n",
       "      <td>641.089700</td>\n",
       "      <td>172.656300</td>\n",
       "      <td>1986.700000</td>\n",
       "      <td>16.580300</td>\n",
       "    </tr>\n",
       "  </tbody>\n",
       "</table>\n",
       "</div>"
      ],
      "text/plain": [
       "               DENS            GR            SP      DEEP_RES           CAL\n",
       "count  28584.000000  30399.000000  30410.000000  30410.000000  30410.000000\n",
       "mean       2.642602    142.226313     19.129150    173.825669     10.136536\n",
       "std        0.460718     54.432473     48.371447    382.208613      3.122901\n",
       "min        1.656000     20.493500   -181.250000      0.272000      3.237500\n",
       "25%        2.376000     99.365000     -0.565000      2.410000      8.883500\n",
       "50%        2.556150    144.720000      3.194700      7.981850     10.186400\n",
       "75%        2.660000    171.758600     47.500000     93.990850     12.463000\n",
       "max        4.628800    641.089700    172.656300   1986.700000     16.580300"
      ]
     },
     "execution_count": 4,
     "metadata": {},
     "output_type": "execute_result"
    }
   ],
   "source": [
    "df.describe()"
   ]
  },
  {
   "cell_type": "code",
   "execution_count": 5,
   "metadata": {},
   "outputs": [
    {
     "name": "stdout",
     "output_type": "stream",
     "text": [
      "<class 'pandas.core.frame.DataFrame'>\n",
      "RangeIndex: 30410 entries, 0 to 30409\n",
      "Data columns (total 6 columns):\n",
      "DENS         28584 non-null float64\n",
      "GR           30399 non-null float64\n",
      "SP           30410 non-null float64\n",
      "DEEP_RES     30410 non-null float64\n",
      "CAL          30410 non-null float64\n",
      "Lithology    30410 non-null object\n",
      "dtypes: float64(5), object(1)\n",
      "memory usage: 1.4+ MB\n"
     ]
    }
   ],
   "source": [
    "df.info()"
   ]
  },
  {
   "cell_type": "markdown",
   "metadata": {},
   "source": [
    "## Clean Data\n",
    "Delete rows with null value"
   ]
  },
  {
   "cell_type": "code",
   "execution_count": 6,
   "metadata": {},
   "outputs": [
    {
     "data": {
      "text/plain": [
       "DENS         1826\n",
       "GR             11\n",
       "SP              0\n",
       "DEEP_RES        0\n",
       "CAL             0\n",
       "Lithology       0\n",
       "dtype: int64"
      ]
     },
     "execution_count": 6,
     "metadata": {},
     "output_type": "execute_result"
    }
   ],
   "source": [
    "df.isnull().sum()"
   ]
  },
  {
   "cell_type": "code",
   "execution_count": 7,
   "metadata": {},
   "outputs": [],
   "source": [
    "df.dropna(inplace=True)"
   ]
  },
  {
   "cell_type": "code",
   "execution_count": 8,
   "metadata": {},
   "outputs": [
    {
     "name": "stdout",
     "output_type": "stream",
     "text": [
      "<class 'pandas.core.frame.DataFrame'>\n",
      "Int64Index: 28573 entries, 0 to 30409\n",
      "Data columns (total 6 columns):\n",
      "DENS         28573 non-null float64\n",
      "GR           28573 non-null float64\n",
      "SP           28573 non-null float64\n",
      "DEEP_RES     28573 non-null float64\n",
      "CAL          28573 non-null float64\n",
      "Lithology    28573 non-null object\n",
      "dtypes: float64(5), object(1)\n",
      "memory usage: 1.5+ MB\n"
     ]
    }
   ],
   "source": [
    "df.info()"
   ]
  },
  {
   "cell_type": "code",
   "execution_count": 9,
   "metadata": {},
   "outputs": [
    {
     "data": {
      "text/plain": [
       "DENS         0\n",
       "GR           0\n",
       "SP           0\n",
       "DEEP_RES     0\n",
       "CAL          0\n",
       "Lithology    0\n",
       "dtype: int64"
      ]
     },
     "execution_count": 9,
     "metadata": {},
     "output_type": "execute_result"
    }
   ],
   "source": [
    "df.isnull().sum()"
   ]
  },
  {
   "cell_type": "markdown",
   "metadata": {},
   "source": [
    "## Data Visualization"
   ]
  },
  {
   "cell_type": "code",
   "execution_count": 8,
   "metadata": {},
   "outputs": [
    {
     "data": {
      "text/plain": [
       "Index(['DENS', 'GR', 'SP', 'DEEP_RES', 'CAL', 'Lithology'], dtype='object')"
      ]
     },
     "execution_count": 8,
     "metadata": {},
     "output_type": "execute_result"
    }
   ],
   "source": [
    "df.columns"
   ]
  },
  {
   "cell_type": "code",
   "execution_count": 23,
   "metadata": {},
   "outputs": [
    {
     "data": {
      "text/plain": [
       "<matplotlib.axes._subplots.AxesSubplot at 0x1a247245f8>"
      ]
     },
     "execution_count": 23,
     "metadata": {},
     "output_type": "execute_result"
    },
    {
     "data": {
      "image/png": "[encoded data removed]",
      "text/plain": [
       "<Figure size 432x288 with 1 Axes>"
      ]
     },
     "metadata": {
      "needs_background": "light"
     },
     "output_type": "display_data"
    }
   ],
   "source": [
    "df['DENS'].plot(kind='hist', bins=20)"
   ]
  },
  {
   "cell_type": "code",
   "execution_count": 25,
   "metadata": {},
   "outputs": [
    {
     "data": {
      "text/plain": [
       "<matplotlib.axes._subplots.AxesSubplot at 0x1a24cbe0b8>"
      ]
     },
     "execution_count": 25,
     "metadata": {},
     "output_type": "execute_result"
    },
    {
     "data": {
      "image/png": "[encoded data removed]",
      "text/plain": [
       "<Figure size 432x288 with 1 Axes>"
      ]
     },
     "metadata": {
      "needs_background": "light"
     },
     "output_type": "display_data"
    }
   ],
   "source": [
    "df['GR'].plot(kind='hist', bins=30)"
   ]
  },
  {
   "cell_type": "code",
   "execution_count": 27,
   "metadata": {},
   "outputs": [
    {
     "data": {
      "text/plain": [
       "<matplotlib.axes._subplots.AxesSubplot at 0x1a24f7f8d0>"
      ]
     },
     "execution_count": 27,
     "metadata": {},
     "output_type": "execute_result"
    },
    {
     "data": {
      "image/png": "[encoded data removed]",
      "text/plain": [
       "<Figure size 432x288 with 1 Axes>"
      ]
     },
     "metadata": {
      "needs_background": "light"
     },
     "output_type": "display_data"
    }
   ],
   "source": [
    "df['SP'].plot(kind='hist', bins=20)"
   ]
  },
  {
   "cell_type": "code",
   "execution_count": 28,
   "metadata": {},
   "outputs": [
    {
     "data": {
      "text/plain": [
       "<matplotlib.axes._subplots.AxesSubplot at 0x1a24fbc5f8>"
      ]
     },
     "execution_count": 28,
     "metadata": {},
     "output_type": "execute_result"
    },
    {
     "data": {
      "image/png": "[encoded data removed]",
      "text/plain": [
       "<Figure size 432x288 with 1 Axes>"
      ]
     },
     "metadata": {
      "needs_background": "light"
     },
     "output_type": "display_data"
    }
   ],
   "source": [
    "df['DEEP_RES'].plot(kind='hist', bins=20)"
   ]
  },
  {
   "cell_type": "code",
   "execution_count": 29,
   "metadata": {},
   "outputs": [
    {
     "data": {
      "text/plain": [
       "<matplotlib.axes._subplots.AxesSubplot at 0x1a25293080>"
      ]
     },
     "execution_count": 29,
     "metadata": {},
     "output_type": "execute_result"
    },
    {
     "data": {
      "image/png": "[encoded data removed]",
      "text/plain": [
       "<Figure size 432x288 with 1 Axes>"
      ]
     },
     "metadata": {
      "needs_background": "light"
     },
     "output_type": "display_data"
    }
   ],
   "source": [
    "df['CAL'].plot(kind='hist', bins=20)"
   ]
  },
  {
   "cell_type": "markdown",
   "metadata": {},
   "source": [
    "## Data Training and Testing"
   ]
  },
  {
   "cell_type": "markdown",
   "metadata": {},
   "source": [
    "### Standardize\n",
    "Standardize features by removing the mean and scaling to unit variance"
   ]
  },
  {
   "cell_type": "code",
   "execution_count": 55,
   "metadata": {},
   "outputs": [],
   "source": [
    "from sklearn.preprocessing import StandardScaler"
   ]
  },
  {
   "cell_type": "code",
   "execution_count": 56,
   "metadata": {},
   "outputs": [],
   "source": [
    "scaler = StandardScaler()"
   ]
  },
  {
   "cell_type": "code",
   "execution_count": 83,
   "metadata": {},
   "outputs": [],
   "source": [
    "scaler.fit(df.drop('Lithology',axis=1))   ## Lithology is the target values\n",
    "scaled_features = scaler.transform(df.drop('Lithology',axis=1))"
   ]
  },
  {
   "cell_type": "code",
   "execution_count": 84,
   "metadata": {},
   "outputs": [
    {
     "data": {
      "text/html": [
       "<div>\n",
       "<style scoped>\n",
       "    .dataframe tbody tr th:only-of-type {\n",
       "        vertical-align: middle;\n",
       "    }\n",
       "\n",
       "    .dataframe tbody tr th {\n",
       "        vertical-align: top;\n",
       "    }\n",
       "\n",
       "    .dataframe thead th {\n",
       "        text-align: right;\n",
       "    }\n",
       "</style>\n",
       "<table border=\"1\" class=\"dataframe\">\n",
       "  <thead>\n",
       "    <tr style=\"text-align: right;\">\n",
       "      <th></th>\n",
       "      <th>DENS</th>\n",
       "      <th>GR</th>\n",
       "      <th>SP</th>\n",
       "      <th>DEEP_RES</th>\n",
       "      <th>CAL</th>\n",
       "    </tr>\n",
       "  </thead>\n",
       "  <tbody>\n",
       "    <tr>\n",
       "      <th>0</th>\n",
       "      <td>-0.189932</td>\n",
       "      <td>0.275079</td>\n",
       "      <td>1.252179</td>\n",
       "      <td>4.506197</td>\n",
       "      <td>-0.355852</td>\n",
       "    </tr>\n",
       "    <tr>\n",
       "      <th>1</th>\n",
       "      <td>-1.323272</td>\n",
       "      <td>0.161960</td>\n",
       "      <td>-0.470464</td>\n",
       "      <td>-0.461606</td>\n",
       "      <td>0.103175</td>\n",
       "    </tr>\n",
       "    <tr>\n",
       "      <th>2</th>\n",
       "      <td>-0.231602</td>\n",
       "      <td>0.079541</td>\n",
       "      <td>-0.341136</td>\n",
       "      <td>-0.466768</td>\n",
       "      <td>1.601830</td>\n",
       "    </tr>\n",
       "    <tr>\n",
       "      <th>3</th>\n",
       "      <td>-0.821929</td>\n",
       "      <td>0.196996</td>\n",
       "      <td>-0.450429</td>\n",
       "      <td>-0.468898</td>\n",
       "      <td>0.850047</td>\n",
       "    </tr>\n",
       "    <tr>\n",
       "      <th>4</th>\n",
       "      <td>2.765607</td>\n",
       "      <td>-1.310090</td>\n",
       "      <td>-0.334552</td>\n",
       "      <td>-0.457716</td>\n",
       "      <td>0.098918</td>\n",
       "    </tr>\n",
       "  </tbody>\n",
       "</table>\n",
       "</div>"
      ],
      "text/plain": [
       "       DENS        GR        SP  DEEP_RES       CAL\n",
       "0 -0.189932  0.275079  1.252179  4.506197 -0.355852\n",
       "1 -1.323272  0.161960 -0.470464 -0.461606  0.103175\n",
       "2 -0.231602  0.079541 -0.341136 -0.466768  1.601830\n",
       "3 -0.821929  0.196996 -0.450429 -0.468898  0.850047\n",
       "4  2.765607 -1.310090 -0.334552 -0.457716  0.098918"
      ]
     },
     "execution_count": 84,
     "metadata": {},
     "output_type": "execute_result"
    }
   ],
   "source": [
    "df_std = pd.DataFrame(scaled_features,columns=df.columns[:-1])\n",
    "df_std.head()"
   ]
  },
  {
   "cell_type": "markdown",
   "metadata": {},
   "source": [
    "### Splitting and Training"
   ]
  },
  {
   "cell_type": "code",
   "execution_count": 59,
   "metadata": {},
   "outputs": [],
   "source": [
    "from sklearn.model_selection import train_test_split"
   ]
  },
  {
   "cell_type": "code",
   "execution_count": 60,
   "metadata": {},
   "outputs": [],
   "source": [
    "x = df.drop('Lithology',axis=1)\n",
    "y = df['Lithology']"
   ]
  },
  {
   "cell_type": "code",
   "execution_count": 61,
   "metadata": {},
   "outputs": [],
   "source": [
    "x_train, x_test, y_train, y_test = train_test_split(x, y, test_size=0.20)"
   ]
  },
  {
   "cell_type": "markdown",
   "metadata": {},
   "source": [
    "### Training on KNN"
   ]
  },
  {
   "cell_type": "code",
   "execution_count": 62,
   "metadata": {},
   "outputs": [],
   "source": [
    "from sklearn.neighbors import KNeighborsClassifier\n",
    "from sklearn.metrics import classification_report,confusion_matrix"
   ]
  },
  {
   "cell_type": "code",
   "execution_count": 71,
   "metadata": {},
   "outputs": [],
   "source": [
    "error_rate = []\n",
    "\n",
    "for i in range(1,40):\n",
    "    \n",
    "    knn = KNeighborsClassifier(n_neighbors=i)\n",
    "    knn.fit(x_train,y_train)\n",
    "    pred = knn.predict(x_test)\n",
    "    error_rate.append(np.mean(pred != y_test))"
   ]
  },
  {
   "cell_type": "markdown",
   "metadata": {},
   "source": [
    "### Visiualizing K-value"
   ]
  },
  {
   "cell_type": "code",
   "execution_count": 72,
   "metadata": {},
   "outputs": [
    {
     "data": {
      "text/plain": [
       "Text(0, 0.5, 'Error Rate')"
      ]
     },
     "execution_count": 72,
     "metadata": {},
     "output_type": "execute_result"
    },
    {
     "data": {
      "image/png": "[encoded data removed]",
      "text/plain": [
       "<Figure size 720x432 with 1 Axes>"
      ]
     },
     "metadata": {
      "needs_background": "light"
     },
     "output_type": "display_data"
    }
   ],
   "source": [
    "plt.figure(figsize=(10,6))\n",
    "plt.plot(range(1,40),error_rate,color='blue', linestyle='dashed', marker='o',\n",
    "         markerfacecolor='red', markersize=10)\n",
    "plt.title('Error Rate vs. K Value')\n",
    "plt.xlabel('K')\n",
    "plt.ylabel('Error Rate')"
   ]
  },
  {
   "cell_type": "markdown",
   "metadata": {},
   "source": [
    "K = 3 has the min. error rate"
   ]
  },
  {
   "cell_type": "markdown",
   "metadata": {},
   "source": [
    "### Testing on KNN"
   ]
  },
  {
   "cell_type": "code",
   "execution_count": 73,
   "metadata": {},
   "outputs": [],
   "source": [
    "knn_3 = KNeighborsClassifier(n_neighbors=3)"
   ]
  },
  {
   "cell_type": "code",
   "execution_count": 74,
   "metadata": {},
   "outputs": [
    {
     "data": {
      "text/plain": [
       "KNeighborsClassifier(algorithm='auto', leaf_size=30, metric='minkowski',\n",
       "           metric_params=None, n_jobs=None, n_neighbors=3, p=2,\n",
       "           weights='uniform')"
      ]
     },
     "execution_count": 74,
     "metadata": {},
     "output_type": "execute_result"
    }
   ],
   "source": [
    "knn_3.fit(x_train,y_train)"
   ]
  },
  {
   "cell_type": "code",
   "execution_count": 75,
   "metadata": {},
   "outputs": [],
   "source": [
    "y_p_3 = knn_3.predict(x_test)"
   ]
  },
  {
   "cell_type": "code",
   "execution_count": 81,
   "metadata": {},
   "outputs": [
    {
     "name": "stdout",
     "output_type": "stream",
     "text": [
      "Sample=0.8, K=3\n",
      "\n",
      "\n",
      "[[ 465   59]\n",
      " [  36 5155]]\n",
      "\n",
      "\n",
      "              precision    recall  f1-score   support\n",
      "\n",
      "  Basin Fill       0.93      0.89      0.91       524\n",
      "   Granitiod       0.99      0.99      0.99      5191\n",
      "\n",
      "   micro avg       0.98      0.98      0.98      5715\n",
      "   macro avg       0.96      0.94      0.95      5715\n",
      "weighted avg       0.98      0.98      0.98      5715\n",
      "\n"
     ]
    }
   ],
   "source": [
    "print('Sample=0.8, K=3')\n",
    "print('\\n')\n",
    "print(confusion_matrix(y_test,y_p_3))\n",
    "print('\\n')\n",
    "print(classification_report(y_test,y_p_3))"
   ]
  }
 ],
 "metadata": {
  "kernelspec": {
   "display_name": "Python 3",
   "language": "python",
   "name": "python3"
  },
  "language_info": {
   "codemirror_mode": {
    "name": "ipython",
    "version": 3
   },
   "file_extension": ".py",
   "mimetype": "text/x-python",
   "name": "python",
   "nbconvert_exporter": "python",
   "pygments_lexer": "ipython3",
   "version": "3.8.2"
  }
 },
 "nbformat": 4,
 "nbformat_minor": 2
}
